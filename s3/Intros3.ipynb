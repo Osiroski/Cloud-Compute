{
 "cells": [
  {
   "cell_type": "markdown",
   "metadata": {},
   "source": [
    "# Introduction to Amazon Simple Storage Service (S3)"
   ]
  },
  {
   "cell_type": "code",
   "execution_count": null,
   "metadata": {},
   "outputs": [],
   "source": [
    "%pip install boto3\n",
    "%pip install boto3[crt]"
   ]
  },
  {
   "cell_type": "markdown",
   "metadata": {},
   "source": [
    "## Create an S3 bucket."
   ]
  },
  {
   "cell_type": "code",
   "execution_count": 12,
   "metadata": {},
   "outputs": [],
   "source": [
    "import logging\n",
    "import boto3\n",
    "from botocore.exceptions import ClientError\n",
    "import os\n",
    "import json"
   ]
  },
  {
   "cell_type": "markdown",
   "metadata": {},
   "source": [
    "Create client and bucket"
   ]
  },
  {
   "cell_type": "code",
   "execution_count": 2,
   "metadata": {},
   "outputs": [
    {
     "data": {
      "text/plain": [
       "{'ResponseMetadata': {'RequestId': '4MXMEV255193VK83',\n",
       "  'HostId': 'E826ZUk7MjYtIn21wvOkgQSD0V2VxazF1fGUNBxuF7aEtvB1Ii47BzkHCXCSAzWkeaWu3iPBe7g=',\n",
       "  'HTTPStatusCode': 200,\n",
       "  'HTTPHeaders': {'x-amz-id-2': 'E826ZUk7MjYtIn21wvOkgQSD0V2VxazF1fGUNBxuF7aEtvB1Ii47BzkHCXCSAzWkeaWu3iPBe7g=',\n",
       "   'x-amz-request-id': '4MXMEV255193VK83',\n",
       "   'date': 'Wed, 18 May 2022 07:53:47 GMT',\n",
       "   'location': '/mys3bucketwhizlabs-test222',\n",
       "   'server': 'AmazonS3',\n",
       "   'content-length': '0'},\n",
       "  'RetryAttempts': 0},\n",
       " 'Location': '/mys3bucketwhizlabs-test222'}"
      ]
     },
     "execution_count": 2,
     "metadata": {},
     "output_type": "execute_result"
    }
   ],
   "source": [
    "s3 = boto3.client('s3')\n",
    "s3.create_bucket(Bucket='mys3bucketwhizlabs-test222')"
   ]
  },
  {
   "cell_type": "code",
   "execution_count": null,
   "metadata": {},
   "outputs": [],
   "source": [
    "s3.list_buckets()"
   ]
  },
  {
   "cell_type": "markdown",
   "metadata": {},
   "source": [
    "## Upload file"
   ]
  },
  {
   "cell_type": "code",
   "execution_count": 4,
   "metadata": {},
   "outputs": [],
   "source": [
    "def upload_file(file_name, bucket, object_name=None):\n",
    "    \"\"\"Upload a file to an S3 bucket\n",
    "\n",
    "    :param file_name: File to upload\n",
    "    :param bucket: Bucket to upload to\n",
    "    :param object_name: S3 object name. If not specified then file_name is used\n",
    "    :return: True if file was uploaded, else False\n",
    "    \"\"\"\n",
    "\n",
    "    # If S3 object_name was not specified, use file_name\n",
    "    if object_name is None:\n",
    "        object_name = os.path.basename(file_name)\n",
    "\n",
    "    # Upload the file\n",
    "    s3_client = boto3.client('s3')\n",
    "    try:\n",
    "        response = s3_client.upload_file(file_name, bucket, object_name)\n",
    "    except ClientError as e:\n",
    "        logging.error(e)\n",
    "        return False\n",
    "    return True"
   ]
  },
  {
   "cell_type": "code",
   "execution_count": 6,
   "metadata": {},
   "outputs": [],
   "source": [
    "s3 = boto3.client('s3')\n",
    "with open(\"smiley.jpg\", \"rb\") as f:\n",
    "    s3.upload_fileobj(f, \"mys3bucketwhizlabs-test222\",'smiley.jpg')"
   ]
  },
  {
   "cell_type": "code",
   "execution_count": null,
   "metadata": {},
   "outputs": [],
   "source": [
    "s3.list_objects(Bucket=\"mys3bucketwhizlabs-test222\")"
   ]
  },
  {
   "cell_type": "markdown",
   "metadata": {},
   "source": [
    "# Task 4: Change Bucket Permissions"
   ]
  },
  {
   "cell_type": "code",
   "execution_count": 11,
   "metadata": {},
   "outputs": [
    {
     "data": {
      "text/plain": [
       "{'ResponseMetadata': {'RequestId': 'KSSV61KF7PTZ8R15',\n",
       "  'HostId': 'KM6qm3vRkAx/9A1K0ZxUhjXHLv04MiOOb/AEcaxrjXWpX91GTiXMXOYIsbsDOMGclOrqrUomJ2E=',\n",
       "  'HTTPStatusCode': 200,\n",
       "  'HTTPHeaders': {'x-amz-id-2': 'KM6qm3vRkAx/9A1K0ZxUhjXHLv04MiOOb/AEcaxrjXWpX91GTiXMXOYIsbsDOMGclOrqrUomJ2E=',\n",
       "   'x-amz-request-id': 'KSSV61KF7PTZ8R15',\n",
       "   'date': 'Wed, 18 May 2022 08:03:21 GMT',\n",
       "   'server': 'AmazonS3',\n",
       "   'content-length': '0'},\n",
       "  'RetryAttempts': 0}}"
      ]
     },
     "execution_count": 11,
     "metadata": {},
     "output_type": "execute_result"
    }
   ],
   "source": [
    "s3R = boto3.resource('s3')\n",
    "object = s3R.Bucket('mys3bucketwhizlabs-test222').Object('smiley.jpg')\n",
    "object.Acl().put(ACL='public-read')"
   ]
  },
  {
   "cell_type": "markdown",
   "metadata": {},
   "source": [
    "# Task 5: Create a Bucket Policy (Optional)"
   ]
  },
  {
   "cell_type": "code",
   "execution_count": 13,
   "metadata": {},
   "outputs": [
    {
     "data": {
      "text/plain": [
       "{'ResponseMetadata': {'RequestId': 'TMPN2TZ02EZ3QX0P',\n",
       "  'HostId': 'U7t4DUuimb7VqG2zBtA+4z2+oxtS2DP6hKHfUyHocBF7Lh8dPODwHN/nlTNYMw0A6Sqe/iJZqNo=',\n",
       "  'HTTPStatusCode': 204,\n",
       "  'HTTPHeaders': {'x-amz-id-2': 'U7t4DUuimb7VqG2zBtA+4z2+oxtS2DP6hKHfUyHocBF7Lh8dPODwHN/nlTNYMw0A6Sqe/iJZqNo=',\n",
       "   'x-amz-request-id': 'TMPN2TZ02EZ3QX0P',\n",
       "   'date': 'Wed, 18 May 2022 08:08:57 GMT',\n",
       "   'server': 'AmazonS3'},\n",
       "  'RetryAttempts': 0}}"
      ]
     },
     "execution_count": 13,
     "metadata": {},
     "output_type": "execute_result"
    }
   ],
   "source": [
    "bucket_name = 'mys3bucketwhizlabs-test222'\n",
    "\n",
    "# Create the bucket policy\n",
    "bucket_policy = {\n",
    "   \"Id\": \"Policy1\",\n",
    "   \"Version\": \"2012-10-17\",\n",
    "   \"Statement\": [\n",
    "      {\n",
    "         \"Sid\": \"Stmt1\",\n",
    "         \"Action\": [\n",
    "            \"s3:GetObject\"\n",
    "         ],\n",
    "         \"Effect\": \"Allow\",\n",
    "        'Resource': \"arn:aws:s3:::%s/*\" % bucket_name,       \n",
    "        \"Principal\": \"*\"\n",
    "      }\n",
    "   ]\n",
    "}\n",
    "# Convert the policy to a JSON string\n",
    "bucket_policy = json.dumps(bucket_policy)\n",
    "\n",
    "# Set the new policy on the given bucket\n",
    "s3.put_bucket_policy(Bucket=bucket_name, Policy=bucket_policy)"
   ]
  },
  {
   "cell_type": "code",
   "execution_count": 14,
   "metadata": {},
   "outputs": [],
   "source": [
    "with open(\"logo.png\", \"rb\") as f:\n",
    "    s3.upload_fileobj(f, \"mys3bucketwhizlabs-test222\",'logo.png')"
   ]
  },
  {
   "cell_type": "code",
   "execution_count": null,
   "metadata": {},
   "outputs": [],
   "source": []
  }
 ],
 "metadata": {
  "interpreter": {
   "hash": "1178c9817f92556c7ff935f569326cce52cef558c2246599c2444241b884718e"
  },
  "kernelspec": {
   "display_name": "Python 3.10.4 64-bit",
   "language": "python",
   "name": "python3"
  },
  "language_info": {
   "codemirror_mode": {
    "name": "ipython",
    "version": 3
   },
   "file_extension": ".py",
   "mimetype": "text/x-python",
   "name": "python",
   "nbconvert_exporter": "python",
   "pygments_lexer": "ipython3",
   "version": "3.10.4"
  },
  "orig_nbformat": 4
 },
 "nbformat": 4,
 "nbformat_minor": 2
}
